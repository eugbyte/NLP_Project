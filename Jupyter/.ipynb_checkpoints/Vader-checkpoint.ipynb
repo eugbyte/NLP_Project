{
 "cells": [
  {
   "cell_type": "markdown",
   "metadata": {},
   "source": [
    "### 1: Import the data"
   ]
  },
  {
   "cell_type": "code",
   "execution_count": 1,
   "metadata": {},
   "outputs": [],
   "source": [
    "import numpy as np\n",
    "import pandas as pd\n",
    "\n",
    "import spacy\n",
    "nlp = spacy.load('en_core_web_sm')"
   ]
  },
  {
   "cell_type": "code",
   "execution_count": 2,
   "metadata": {},
   "outputs": [],
   "source": [
    "#assume that this data is retrieved from the json post request\n",
    "df = pd.read_csv(\"webScrapped.csv\", skipinitialspace=True)"
   ]
  },
  {
   "cell_type": "code",
   "execution_count": 3,
   "metadata": {},
   "outputs": [
    {
     "data": {
      "text/html": [
       "<div>\n",
       "<style scoped>\n",
       "    .dataframe tbody tr th:only-of-type {\n",
       "        vertical-align: middle;\n",
       "    }\n",
       "\n",
       "    .dataframe tbody tr th {\n",
       "        vertical-align: top;\n",
       "    }\n",
       "\n",
       "    .dataframe thead th {\n",
       "        text-align: right;\n",
       "    }\n",
       "</style>\n",
       "<table border=\"1\" class=\"dataframe\">\n",
       "  <thead>\n",
       "    <tr style=\"text-align: right;\">\n",
       "      <th></th>\n",
       "      <th>label</th>\n",
       "      <th>review</th>\n",
       "    </tr>\n",
       "  </thead>\n",
       "  <tbody>\n",
       "    <tr>\n",
       "      <th>0</th>\n",
       "      <td>neutral</td>\n",
       "      <td>I applied online. I interviewed at ST Engineer...</td>\n",
       "    </tr>\n",
       "    <tr>\n",
       "      <th>1</th>\n",
       "      <td>negative</td>\n",
       "      <td>The process took about 2 weeks. HR did not inf...</td>\n",
       "    </tr>\n",
       "    <tr>\n",
       "      <th>2</th>\n",
       "      <td>negative</td>\n",
       "      <td>I was given an interview date and time after s...</td>\n",
       "    </tr>\n",
       "    <tr>\n",
       "      <th>3</th>\n",
       "      <td>neutral</td>\n",
       "      <td>I applied online. I interviewed at ST Engineer...</td>\n",
       "    </tr>\n",
       "    <tr>\n",
       "      <th>4</th>\n",
       "      <td>negative</td>\n",
       "      <td>Overall HR did good job to arrange the intervi...</td>\n",
       "    </tr>\n",
       "  </tbody>\n",
       "</table>\n",
       "</div>"
      ],
      "text/plain": [
       "      label                                             review\n",
       "0   neutral  I applied online. I interviewed at ST Engineer...\n",
       "1  negative  The process took about 2 weeks. HR did not inf...\n",
       "2  negative  I was given an interview date and time after s...\n",
       "3   neutral  I applied online. I interviewed at ST Engineer...\n",
       "4  negative  Overall HR did good job to arrange the intervi..."
      ]
     },
     "execution_count": 3,
     "metadata": {},
     "output_type": "execute_result"
    }
   ],
   "source": [
    "df.head()"
   ]
  },
  {
   "cell_type": "code",
   "execution_count": 4,
   "metadata": {},
   "outputs": [
    {
     "name": "stdout",
     "output_type": "stream",
     "text": [
      "17\n",
      "        label                                             review\n",
      "0     neutral  I applied online. I interviewed at ST Engineer...\n",
      "1    negative  The process took about 2 weeks. HR did not inf...\n",
      "2    negative  I was given an interview date and time after s...\n",
      "3     neutral  I applied online. I interviewed at ST Engineer...\n",
      "4    negative  Overall HR did good job to arrange the intervi...\n",
      "5     neutral  I applied online. The process took 2+ months. ...\n",
      "6     neutral  After an online application, they review my CV...\n",
      "7   positive   Casual chat in warm office, hiring manager hig...\n",
      "8     neutral  I applied online. I interviewed at ST Engineer...\n",
      "9   positive   Applied through company's career website- HR p...\n",
      "10    neutral  The process took 3+ months. I interviewed at S...\n",
      "11   negative  Was asked to attend first round and second rou...\n",
      "12    neutral  I applied online. The process took 2 weeks. I ...\n",
      "13  positive   Hiring process is fast, gotten offer immediate...\n",
      "14    neutral  I applied through a staffing agency. The proce...\n",
      "15    neutral  Two interviews, first is panel while second is...\n",
      "16    neutral  I applied online. I interviewed at ST Engineer...\n"
     ]
    }
   ],
   "source": [
    "print(len(df))\n",
    "print(df)"
   ]
  },
  {
   "cell_type": "code",
   "execution_count": 5,
   "metadata": {},
   "outputs": [
    {
     "name": "stdout",
     "output_type": "stream",
     "text": [
      "9\n"
     ]
    }
   ],
   "source": [
    "word1 = df.loc[13, 'label']\n",
    "word2 = df.loc[9, 'label']\n",
    "print(len(word1))\n"
   ]
  },
  {
   "cell_type": "markdown",
   "metadata": {},
   "source": [
    "### 2: Clean the data"
   ]
  },
  {
   "cell_type": "code",
   "execution_count": 6,
   "metadata": {},
   "outputs": [
    {
     "name": "stdout",
     "output_type": "stream",
     "text": [
      "label     0\n",
      "review    0\n",
      "dtype: int64\n"
     ]
    }
   ],
   "source": [
    "#Check for NaN values\n",
    "print(df.isnull().sum())\n",
    "df.dropna(inplace=True)"
   ]
  },
  {
   "cell_type": "code",
   "execution_count": 7,
   "metadata": {},
   "outputs": [
    {
     "name": "stdout",
     "output_type": "stream",
     "text": [
      "17\n"
     ]
    }
   ],
   "source": [
    "print(len(df))"
   ]
  },
  {
   "cell_type": "code",
   "execution_count": 8,
   "metadata": {},
   "outputs": [
    {
     "name": "stdout",
     "output_type": "stream",
     "text": [
      "[]\n",
      "17\n"
     ]
    }
   ],
   "source": [
    "#remove white spaces and empty strings\n",
    "blanks = []\n",
    "\n",
    "for index, row in df.iterrows():\n",
    "    label = row['label']\n",
    "    review = row['review']\n",
    "    if label.isspace():\n",
    "        blanks.append(index)\n",
    "    if type(review) == str:\n",
    "        if (review.isspace()):\n",
    "            blanks.append(index)\n",
    "\n",
    "print(blanks)\n",
    "\n",
    "df.drop(index=blanks, inplace=True)\n",
    "print(len(df))"
   ]
  },
  {
   "cell_type": "code",
   "execution_count": 9,
   "metadata": {},
   "outputs": [],
   "source": [
    "#trim the strings    \n",
    "df = df.applymap(lambda cell: cell.strip() if (type(cell) == str) else cell)"
   ]
  },
  {
   "cell_type": "code",
   "execution_count": 10,
   "metadata": {},
   "outputs": [],
   "source": [
    "#remove punctuation\n",
    "def remove_punctuation(text):\n",
    "    doc = nlp(text)\n",
    "    tokens = [token.text for token in doc if token.is_alpha or token.is_digit]\n",
    "    return \" \".join(tokens)\n",
    "    \n",
    "df['review'] = df['review'].apply(remove_punctuation)"
   ]
  },
  {
   "cell_type": "markdown",
   "metadata": {},
   "source": [
    "### 3: Encode the data"
   ]
  },
  {
   "cell_type": "code",
   "execution_count": 11,
   "metadata": {},
   "outputs": [],
   "source": [
    "sentiment_mapping = {\n",
    "    'positive': 1,\n",
    "    'neutral': 0,\n",
    "    'negative': -1,\n",
    "}"
   ]
  },
  {
   "cell_type": "code",
   "execution_count": 12,
   "metadata": {},
   "outputs": [],
   "source": [
    "df['label'] = df['label'].map(sentiment_mapping)"
   ]
  },
  {
   "cell_type": "code",
   "execution_count": 13,
   "metadata": {},
   "outputs": [
    {
     "data": {
      "text/html": [
       "<div>\n",
       "<style scoped>\n",
       "    .dataframe tbody tr th:only-of-type {\n",
       "        vertical-align: middle;\n",
       "    }\n",
       "\n",
       "    .dataframe tbody tr th {\n",
       "        vertical-align: top;\n",
       "    }\n",
       "\n",
       "    .dataframe thead th {\n",
       "        text-align: right;\n",
       "    }\n",
       "</style>\n",
       "<table border=\"1\" class=\"dataframe\">\n",
       "  <thead>\n",
       "    <tr style=\"text-align: right;\">\n",
       "      <th></th>\n",
       "      <th>label</th>\n",
       "      <th>review</th>\n",
       "    </tr>\n",
       "  </thead>\n",
       "  <tbody>\n",
       "    <tr>\n",
       "      <td>0</td>\n",
       "      <td>0</td>\n",
       "      <td>I applied online I interviewed at ST Engineering</td>\n",
       "    </tr>\n",
       "    <tr>\n",
       "      <td>1</td>\n",
       "      <td>-1</td>\n",
       "      <td>The process took about 2 weeks HR did not info...</td>\n",
       "    </tr>\n",
       "    <tr>\n",
       "      <td>2</td>\n",
       "      <td>-1</td>\n",
       "      <td>I was given an interview date and time after s...</td>\n",
       "    </tr>\n",
       "    <tr>\n",
       "      <td>3</td>\n",
       "      <td>0</td>\n",
       "      <td>I applied online I interviewed at ST Engineeri...</td>\n",
       "    </tr>\n",
       "    <tr>\n",
       "      <td>4</td>\n",
       "      <td>-1</td>\n",
       "      <td>Overall HR did good job to arrange the intervi...</td>\n",
       "    </tr>\n",
       "  </tbody>\n",
       "</table>\n",
       "</div>"
      ],
      "text/plain": [
       "   label                                             review\n",
       "0      0   I applied online I interviewed at ST Engineering\n",
       "1     -1  The process took about 2 weeks HR did not info...\n",
       "2     -1  I was given an interview date and time after s...\n",
       "3      0  I applied online I interviewed at ST Engineeri...\n",
       "4     -1  Overall HR did good job to arrange the intervi..."
      ]
     },
     "execution_count": 13,
     "metadata": {},
     "output_type": "execute_result"
    }
   ],
   "source": [
    "df.head()"
   ]
  },
  {
   "cell_type": "markdown",
   "metadata": {},
   "source": [
    "### 4: Split the data into training and testing sets"
   ]
  },
  {
   "cell_type": "code",
   "execution_count": 14,
   "metadata": {},
   "outputs": [
    {
     "name": "stdout",
     "output_type": "stream",
     "text": [
      "(11,)\n",
      "(6,)\n",
      "(11,)\n",
      "(6,)\n"
     ]
    }
   ],
   "source": [
    "from sklearn.model_selection import train_test_split\n",
    "X = df['review']\n",
    "y = df['label']\n",
    "X_train, X_test, y_train, y_test = train_test_split(X, y, test_size=0.33, random_state=42)\n",
    "print(X_train.shape)\n",
    "print(X_test.shape)\n",
    "print(y_train.shape)\n",
    "print(y_test.shape)"
   ]
  },
  {
   "cell_type": "markdown",
   "metadata": {},
   "source": [
    "### 5: Create the lemmatizer"
   ]
  },
  {
   "cell_type": "code",
   "execution_count": 15,
   "metadata": {},
   "outputs": [],
   "source": [
    "from spacy.lang.en import English\n",
    "#print(type(lemmatizer), lemmatizer)\n",
    "lemmatizer = English()"
   ]
  },
  {
   "cell_type": "code",
   "execution_count": 16,
   "metadata": {},
   "outputs": [],
   "source": [
    "def lemmat(text):    \n",
    "    tokens = lemmatizer(text)\n",
    "    results = [token.lemma_ for token in tokens]\n",
    "    return results"
   ]
  },
  {
   "cell_type": "code",
   "execution_count": 17,
   "metadata": {},
   "outputs": [
    {
     "name": "stdout",
     "output_type": "stream",
     "text": [
      "I applied online I interviewed at ST Engineering\n",
      "['I', 'applied', 'online', 'I', 'interviewed', 'at', 'ST', 'Engineering']\n"
     ]
    }
   ],
   "source": [
    "#test the lemmat()\n",
    "print(df.loc[0, 'review'])\n",
    "lematised_review = lemmat(df.loc[0, 'review'])\n",
    "print(lematised_review)"
   ]
  },
  {
   "cell_type": "markdown",
   "metadata": {},
   "source": [
    "### 6: Create the stop words vocab and lemmatize it too"
   ]
  },
  {
   "cell_type": "code",
   "execution_count": 18,
   "metadata": {},
   "outputs": [
    {
     "name": "stdout",
     "output_type": "stream",
     "text": [
      "326 <class 'set'>\n"
     ]
    }
   ],
   "source": [
    "stop_words = nlp.Defaults.stop_words\n",
    "print(len(stop_words), type(stop_words))"
   ]
  },
  {
   "cell_type": "code",
   "execution_count": 19,
   "metadata": {},
   "outputs": [],
   "source": [
    "stop_words = lemmat(str(stop_words))"
   ]
  },
  {
   "cell_type": "code",
   "execution_count": 20,
   "metadata": {},
   "outputs": [],
   "source": [
    "stop_words = set(stop_words)"
   ]
  },
  {
   "cell_type": "code",
   "execution_count": 21,
   "metadata": {},
   "outputs": [
    {
     "name": "stdout",
     "output_type": "stream",
     "text": [
      "320 <class 'set'>\n"
     ]
    }
   ],
   "source": [
    "print(len(stop_words), type(stop_words))"
   ]
  },
  {
   "cell_type": "markdown",
   "metadata": {},
   "source": [
    "### 7: Instantiate the TfIdf vectorizer"
   ]
  },
  {
   "cell_type": "code",
   "execution_count": 22,
   "metadata": {},
   "outputs": [],
   "source": [
    "from sklearn.feature_extraction.text import TfidfVectorizer\n",
    "\n",
    "tfidf = TfidfVectorizer(tokenizer=lemmat, stop_words=stop_words)"
   ]
  },
  {
   "cell_type": "markdown",
   "metadata": {},
   "source": [
    "### 7b: Test the TfIdf vectorizer"
   ]
  },
  {
   "cell_type": "code",
   "execution_count": 23,
   "metadata": {},
   "outputs": [
    {
     "name": "stdout",
     "output_type": "stream",
     "text": [
      "(17, 158) <class 'scipy.sparse.csr.csr_matrix'>\n",
      "(17, 158) <class 'numpy.matrix'>\n"
     ]
    }
   ],
   "source": [
    "#test the Tfidf\n",
    "import copy\n",
    "tfidf_copy = copy.deepcopy(tfidf)\n",
    "matrix = tfidf_copy.fit_transform(df['review'])\n",
    "print(matrix.shape, type(matrix))\n",
    "matrix_dense = matrix.todense()\n",
    "print(matrix_dense.shape, type(matrix_dense))"
   ]
  },
  {
   "cell_type": "code",
   "execution_count": 24,
   "metadata": {},
   "outputs": [
    {
     "name": "stdout",
     "output_type": "stream",
     "text": [
      "(17, 158) <class 'numpy.ndarray'>\n"
     ]
    }
   ],
   "source": [
    "arr = np.array(matrix_dense)\n",
    "print(arr.shape, type(arr))"
   ]
  },
  {
   "cell_type": "code",
   "execution_count": 25,
   "metadata": {},
   "outputs": [
    {
     "name": "stdout",
     "output_type": "stream",
     "text": [
      "158\n",
      "['1', '2', '2019', '2020', '3', 'able', 'agency', 'answer', 'application', 'applied', 'appreciative', 'april', 'arrange', 'arranged', 'ask', 'asked', 'asking', 'attend', 'awkward', 'bad']\n"
     ]
    }
   ],
   "source": [
    "column_names = tfidf_copy.get_feature_names()\n",
    "print(len(column_names))\n",
    "print(column_names[0:20])"
   ]
  },
  {
   "cell_type": "code",
   "execution_count": 26,
   "metadata": {},
   "outputs": [
    {
     "name": "stdout",
     "output_type": "stream",
     "text": [
      "(17, 158)\n"
     ]
    },
    {
     "data": {
      "text/html": [
       "<div>\n",
       "<style scoped>\n",
       "    .dataframe tbody tr th:only-of-type {\n",
       "        vertical-align: middle;\n",
       "    }\n",
       "\n",
       "    .dataframe tbody tr th {\n",
       "        vertical-align: top;\n",
       "    }\n",
       "\n",
       "    .dataframe thead th {\n",
       "        text-align: right;\n",
       "    }\n",
       "</style>\n",
       "<table border=\"1\" class=\"dataframe\">\n",
       "  <thead>\n",
       "    <tr style=\"text-align: right;\">\n",
       "      <th></th>\n",
       "      <th>1</th>\n",
       "      <th>2</th>\n",
       "      <th>2019</th>\n",
       "      <th>2020</th>\n",
       "      <th>3</th>\n",
       "      <th>able</th>\n",
       "      <th>agency</th>\n",
       "      <th>answer</th>\n",
       "      <th>application</th>\n",
       "      <th>applied</th>\n",
       "      <th>...</th>\n",
       "      <th>unprofessional</th>\n",
       "      <th>untrained</th>\n",
       "      <th>updates</th>\n",
       "      <th>vibes</th>\n",
       "      <th>warm</th>\n",
       "      <th>weeks</th>\n",
       "      <th>willing</th>\n",
       "      <th>wo</th>\n",
       "      <th>work</th>\n",
       "      <th>worst</th>\n",
       "    </tr>\n",
       "  </thead>\n",
       "  <tbody>\n",
       "    <tr>\n",
       "      <td>0</td>\n",
       "      <td>0.0</td>\n",
       "      <td>0.00000</td>\n",
       "      <td>0.0</td>\n",
       "      <td>0.000000</td>\n",
       "      <td>0.0</td>\n",
       "      <td>0.0</td>\n",
       "      <td>0.0</td>\n",
       "      <td>0.0</td>\n",
       "      <td>0.0</td>\n",
       "      <td>0.446171</td>\n",
       "      <td>...</td>\n",
       "      <td>0.0</td>\n",
       "      <td>0.000000</td>\n",
       "      <td>0.0</td>\n",
       "      <td>0.000000</td>\n",
       "      <td>0.0</td>\n",
       "      <td>0.000000</td>\n",
       "      <td>0.0</td>\n",
       "      <td>0.0</td>\n",
       "      <td>0.0</td>\n",
       "      <td>0.000000</td>\n",
       "    </tr>\n",
       "    <tr>\n",
       "      <td>1</td>\n",
       "      <td>0.0</td>\n",
       "      <td>0.17245</td>\n",
       "      <td>0.0</td>\n",
       "      <td>0.000000</td>\n",
       "      <td>0.0</td>\n",
       "      <td>0.0</td>\n",
       "      <td>0.0</td>\n",
       "      <td>0.0</td>\n",
       "      <td>0.0</td>\n",
       "      <td>0.000000</td>\n",
       "      <td>...</td>\n",
       "      <td>0.0</td>\n",
       "      <td>0.262727</td>\n",
       "      <td>0.0</td>\n",
       "      <td>0.262727</td>\n",
       "      <td>0.0</td>\n",
       "      <td>0.187432</td>\n",
       "      <td>0.0</td>\n",
       "      <td>0.0</td>\n",
       "      <td>0.0</td>\n",
       "      <td>0.000000</td>\n",
       "    </tr>\n",
       "    <tr>\n",
       "      <td>2</td>\n",
       "      <td>0.0</td>\n",
       "      <td>0.00000</td>\n",
       "      <td>0.0</td>\n",
       "      <td>0.000000</td>\n",
       "      <td>0.0</td>\n",
       "      <td>0.0</td>\n",
       "      <td>0.0</td>\n",
       "      <td>0.0</td>\n",
       "      <td>0.0</td>\n",
       "      <td>0.000000</td>\n",
       "      <td>...</td>\n",
       "      <td>0.0</td>\n",
       "      <td>0.000000</td>\n",
       "      <td>0.0</td>\n",
       "      <td>0.000000</td>\n",
       "      <td>0.0</td>\n",
       "      <td>0.000000</td>\n",
       "      <td>0.0</td>\n",
       "      <td>0.0</td>\n",
       "      <td>0.0</td>\n",
       "      <td>0.000000</td>\n",
       "    </tr>\n",
       "    <tr>\n",
       "      <td>3</td>\n",
       "      <td>0.0</td>\n",
       "      <td>0.00000</td>\n",
       "      <td>0.0</td>\n",
       "      <td>0.460076</td>\n",
       "      <td>0.0</td>\n",
       "      <td>0.0</td>\n",
       "      <td>0.0</td>\n",
       "      <td>0.0</td>\n",
       "      <td>0.0</td>\n",
       "      <td>0.279027</td>\n",
       "      <td>...</td>\n",
       "      <td>0.0</td>\n",
       "      <td>0.000000</td>\n",
       "      <td>0.0</td>\n",
       "      <td>0.000000</td>\n",
       "      <td>0.0</td>\n",
       "      <td>0.000000</td>\n",
       "      <td>0.0</td>\n",
       "      <td>0.0</td>\n",
       "      <td>0.0</td>\n",
       "      <td>0.000000</td>\n",
       "    </tr>\n",
       "    <tr>\n",
       "      <td>4</td>\n",
       "      <td>0.0</td>\n",
       "      <td>0.00000</td>\n",
       "      <td>0.0</td>\n",
       "      <td>0.000000</td>\n",
       "      <td>0.0</td>\n",
       "      <td>0.0</td>\n",
       "      <td>0.0</td>\n",
       "      <td>0.0</td>\n",
       "      <td>0.0</td>\n",
       "      <td>0.000000</td>\n",
       "      <td>...</td>\n",
       "      <td>0.0</td>\n",
       "      <td>0.000000</td>\n",
       "      <td>0.0</td>\n",
       "      <td>0.000000</td>\n",
       "      <td>0.0</td>\n",
       "      <td>0.000000</td>\n",
       "      <td>0.0</td>\n",
       "      <td>0.0</td>\n",
       "      <td>0.0</td>\n",
       "      <td>0.209706</td>\n",
       "    </tr>\n",
       "  </tbody>\n",
       "</table>\n",
       "<p>5 rows × 158 columns</p>\n",
       "</div>"
      ],
      "text/plain": [
       "     1        2  2019      2020    3  able  agency  answer  application  \\\n",
       "0  0.0  0.00000   0.0  0.000000  0.0   0.0     0.0     0.0          0.0   \n",
       "1  0.0  0.17245   0.0  0.000000  0.0   0.0     0.0     0.0          0.0   \n",
       "2  0.0  0.00000   0.0  0.000000  0.0   0.0     0.0     0.0          0.0   \n",
       "3  0.0  0.00000   0.0  0.460076  0.0   0.0     0.0     0.0          0.0   \n",
       "4  0.0  0.00000   0.0  0.000000  0.0   0.0     0.0     0.0          0.0   \n",
       "\n",
       "    applied  ...  unprofessional  untrained  updates     vibes  warm  \\\n",
       "0  0.446171  ...             0.0   0.000000      0.0  0.000000   0.0   \n",
       "1  0.000000  ...             0.0   0.262727      0.0  0.262727   0.0   \n",
       "2  0.000000  ...             0.0   0.000000      0.0  0.000000   0.0   \n",
       "3  0.279027  ...             0.0   0.000000      0.0  0.000000   0.0   \n",
       "4  0.000000  ...             0.0   0.000000      0.0  0.000000   0.0   \n",
       "\n",
       "      weeks  willing   wo  work     worst  \n",
       "0  0.000000      0.0  0.0   0.0  0.000000  \n",
       "1  0.187432      0.0  0.0   0.0  0.000000  \n",
       "2  0.000000      0.0  0.0   0.0  0.000000  \n",
       "3  0.000000      0.0  0.0   0.0  0.000000  \n",
       "4  0.000000      0.0  0.0   0.0  0.209706  \n",
       "\n",
       "[5 rows x 158 columns]"
      ]
     },
     "execution_count": 26,
     "metadata": {},
     "output_type": "execute_result"
    }
   ],
   "source": [
    "df_tfidf = pd.DataFrame(arr, columns=column_names)\n",
    "print(df_tfidf.shape)\n",
    "df_tfidf.head()"
   ]
  },
  {
   "cell_type": "code",
   "execution_count": 27,
   "metadata": {},
   "outputs": [
    {
     "data": {
      "text/html": [
       "<div>\n",
       "<style scoped>\n",
       "    .dataframe tbody tr th:only-of-type {\n",
       "        vertical-align: middle;\n",
       "    }\n",
       "\n",
       "    .dataframe tbody tr th {\n",
       "        vertical-align: top;\n",
       "    }\n",
       "\n",
       "    .dataframe thead th {\n",
       "        text-align: right;\n",
       "    }\n",
       "</style>\n",
       "<table border=\"1\" class=\"dataframe\">\n",
       "  <thead>\n",
       "    <tr style=\"text-align: right;\">\n",
       "      <th></th>\n",
       "      <th>1</th>\n",
       "      <th>2</th>\n",
       "      <th>2019</th>\n",
       "      <th>2020</th>\n",
       "      <th>3</th>\n",
       "      <th>able</th>\n",
       "      <th>agency</th>\n",
       "      <th>answer</th>\n",
       "      <th>application</th>\n",
       "      <th>applied</th>\n",
       "      <th>...</th>\n",
       "      <th>unprofessional</th>\n",
       "      <th>untrained</th>\n",
       "      <th>updates</th>\n",
       "      <th>vibes</th>\n",
       "      <th>warm</th>\n",
       "      <th>weeks</th>\n",
       "      <th>willing</th>\n",
       "      <th>wo</th>\n",
       "      <th>work</th>\n",
       "      <th>worst</th>\n",
       "    </tr>\n",
       "  </thead>\n",
       "  <tbody>\n",
       "    <tr>\n",
       "      <td>11</td>\n",
       "      <td>0.0</td>\n",
       "      <td>0.119224</td>\n",
       "      <td>0.0</td>\n",
       "      <td>0.0</td>\n",
       "      <td>0.0</td>\n",
       "      <td>0.0</td>\n",
       "      <td>0.0</td>\n",
       "      <td>0.0</td>\n",
       "      <td>0.0</td>\n",
       "      <td>0.0</td>\n",
       "      <td>...</td>\n",
       "      <td>0.181637</td>\n",
       "      <td>0.0</td>\n",
       "      <td>0.181637</td>\n",
       "      <td>0.0</td>\n",
       "      <td>0.0</td>\n",
       "      <td>0.129582</td>\n",
       "      <td>0.0</td>\n",
       "      <td>0.0</td>\n",
       "      <td>0.0</td>\n",
       "      <td>0.0</td>\n",
       "    </tr>\n",
       "  </tbody>\n",
       "</table>\n",
       "<p>1 rows × 158 columns</p>\n",
       "</div>"
      ],
      "text/plain": [
       "      1         2  2019  2020    3  able  agency  answer  application  \\\n",
       "11  0.0  0.119224   0.0   0.0  0.0   0.0     0.0     0.0          0.0   \n",
       "\n",
       "    applied  ...  unprofessional  untrained   updates  vibes  warm     weeks  \\\n",
       "11      0.0  ...        0.181637        0.0  0.181637    0.0   0.0  0.129582   \n",
       "\n",
       "    willing   wo  work  worst  \n",
       "11      0.0  0.0   0.0    0.0  \n",
       "\n",
       "[1 rows x 158 columns]"
      ]
     },
     "execution_count": 27,
     "metadata": {},
     "output_type": "execute_result"
    }
   ],
   "source": [
    "df_tfidf.iloc[11 : 12]"
   ]
  },
  {
   "cell_type": "markdown",
   "metadata": {},
   "source": [
    "### 7c: Determine cosine similarity of query words against each document"
   ]
  },
  {
   "cell_type": "code",
   "execution_count": 28,
   "metadata": {},
   "outputs": [],
   "source": [
    "import spacy\n",
    "nlp = spacy.load('en_core_web_sm')\n",
    "\n",
    "query_string = \"untrained updates\"\n",
    "queries: list = [token.lemma_ for token in nlp(query_string)]"
   ]
  },
  {
   "cell_type": "code",
   "execution_count": 29,
   "metadata": {},
   "outputs": [
    {
     "name": "stdout",
     "output_type": "stream",
     "text": [
      "['untrained', 'updates']\n"
     ]
    }
   ],
   "source": [
    "print(queries)\n",
    "column_names = list(df_tfidf.columns)"
   ]
  },
  {
   "cell_type": "code",
   "execution_count": 30,
   "metadata": {},
   "outputs": [
    {
     "data": {
      "text/html": [
       "<div>\n",
       "<style scoped>\n",
       "    .dataframe tbody tr th:only-of-type {\n",
       "        vertical-align: middle;\n",
       "    }\n",
       "\n",
       "    .dataframe tbody tr th {\n",
       "        vertical-align: top;\n",
       "    }\n",
       "\n",
       "    .dataframe thead th {\n",
       "        text-align: right;\n",
       "    }\n",
       "</style>\n",
       "<table border=\"1\" class=\"dataframe\">\n",
       "  <thead>\n",
       "    <tr style=\"text-align: right;\">\n",
       "      <th></th>\n",
       "      <th>label</th>\n",
       "      <th>review</th>\n",
       "      <th>cosine_similarity</th>\n",
       "    </tr>\n",
       "  </thead>\n",
       "  <tbody>\n",
       "    <tr>\n",
       "      <td>0</td>\n",
       "      <td>0</td>\n",
       "      <td>I applied online I interviewed at ST Engineering</td>\n",
       "      <td>0.0</td>\n",
       "    </tr>\n",
       "    <tr>\n",
       "      <td>1</td>\n",
       "      <td>-1</td>\n",
       "      <td>The process took about 2 weeks HR did not info...</td>\n",
       "      <td>0.0</td>\n",
       "    </tr>\n",
       "    <tr>\n",
       "      <td>2</td>\n",
       "      <td>-1</td>\n",
       "      <td>I was given an interview date and time after s...</td>\n",
       "      <td>0.0</td>\n",
       "    </tr>\n",
       "    <tr>\n",
       "      <td>3</td>\n",
       "      <td>0</td>\n",
       "      <td>I applied online I interviewed at ST Engineeri...</td>\n",
       "      <td>0.0</td>\n",
       "    </tr>\n",
       "    <tr>\n",
       "      <td>4</td>\n",
       "      <td>-1</td>\n",
       "      <td>Overall HR did good job to arrange the intervi...</td>\n",
       "      <td>0.0</td>\n",
       "    </tr>\n",
       "  </tbody>\n",
       "</table>\n",
       "</div>"
      ],
      "text/plain": [
       "   label                                             review  cosine_similarity\n",
       "0      0   I applied online I interviewed at ST Engineering                0.0\n",
       "1     -1  The process took about 2 weeks HR did not info...                0.0\n",
       "2     -1  I was given an interview date and time after s...                0.0\n",
       "3      0  I applied online I interviewed at ST Engineeri...                0.0\n",
       "4     -1  Overall HR did good job to arrange the intervi...                0.0"
      ]
     },
     "execution_count": 30,
     "metadata": {},
     "output_type": "execute_result"
    }
   ],
   "source": [
    "df.insert(2, \"cosine_similarity\", 0.0)\n",
    "df.head()"
   ]
  },
  {
   "cell_type": "code",
   "execution_count": 31,
   "metadata": {},
   "outputs": [
    {
     "name": "stdout",
     "output_type": "stream",
     "text": [
      "[149, 150]\n",
      "(1, 1)\n",
      "(1, 1)\n"
     ]
    }
   ],
   "source": [
    "from sklearn.metrics.pairwise import cosine_similarity\n",
    "\n",
    "#refer to https://janav.wordpress.com/2013/10/27/tf-idf-and-cosine-similarity/ \n",
    "#main concept is that to compare cosine similarity, the search string must be represented as a vector, \n",
    "#with the same number of columns as the tfidf array\n",
    "#you are comparing the query vector against each document\n",
    "\n",
    "query_indexes = [column_names.index(query) for query in queries if query in column_names]\n",
    "print(query_indexes)\n",
    "#e.g. [158, 159]\n",
    "\n",
    "for index, document in df_tfidf.iterrows():    \n",
    "    query_vector = np.zeros(len(df_tfidf.columns), )\n",
    "    #print(document.shape, query_vector.shape)\n",
    "    #e.g. (167,) (167,)  #must be same shape\n",
    "            \n",
    "    for query_index in query_indexes:           \n",
    "                    \n",
    "        query: str = column_names[query_index]\n",
    "        doc = nlp(df.loc[index, \"review\"])      \n",
    "        doc_texts = [token.text for token in doc]\n",
    "    \n",
    "        if (query not in doc_texts):\n",
    "            query_vector[query_index] = 0\n",
    "            continue\n",
    "            \n",
    "        old_tf: float = doc_texts.count(query) / len(doc_texts)  #e.g. 0.022222222222222223        \n",
    "        old_tfidf: float = document[query_index] #e.g. 0.23875188851084744        \n",
    "        idf: float = old_tfidf / old_tf  #e.g. 10.743834982988135\n",
    "        new_tf: float = queries.count(query) / len(queries)   #e.g. 0.5\n",
    "        new_tfidf: float = idf * new_tf   #e.g. 5.3719174914940675\n",
    "        \n",
    "        query_vector[query_index] = new_tfidf\n",
    "        \n",
    "    similarity = cosine_similarity([query_vector], [document.to_numpy()])   \n",
    "    \n",
    "    \n",
    "    \n",
    "    if (similarity > 0):\n",
    "        print(similarity.shape)\n",
    "        df.at[index, \"cosine_similarity\"] = similarity[0][0]\n",
    "    \n",
    "    \n",
    "    "
   ]
  },
  {
   "cell_type": "code",
   "execution_count": 32,
   "metadata": {},
   "outputs": [
    {
     "data": {
      "text/html": [
       "<div>\n",
       "<style scoped>\n",
       "    .dataframe tbody tr th:only-of-type {\n",
       "        vertical-align: middle;\n",
       "    }\n",
       "\n",
       "    .dataframe tbody tr th {\n",
       "        vertical-align: top;\n",
       "    }\n",
       "\n",
       "    .dataframe thead th {\n",
       "        text-align: right;\n",
       "    }\n",
       "</style>\n",
       "<table border=\"1\" class=\"dataframe\">\n",
       "  <thead>\n",
       "    <tr style=\"text-align: right;\">\n",
       "      <th></th>\n",
       "      <th>label</th>\n",
       "      <th>review</th>\n",
       "      <th>cosine_similarity</th>\n",
       "    </tr>\n",
       "  </thead>\n",
       "  <tbody>\n",
       "    <tr>\n",
       "      <td>1</td>\n",
       "      <td>-1</td>\n",
       "      <td>The process took about 2 weeks HR did not info...</td>\n",
       "      <td>0.262727</td>\n",
       "    </tr>\n",
       "    <tr>\n",
       "      <td>11</td>\n",
       "      <td>-1</td>\n",
       "      <td>Was asked to attend first round and second rou...</td>\n",
       "      <td>0.181637</td>\n",
       "    </tr>\n",
       "    <tr>\n",
       "      <td>0</td>\n",
       "      <td>0</td>\n",
       "      <td>I applied online I interviewed at ST Engineering</td>\n",
       "      <td>0.000000</td>\n",
       "    </tr>\n",
       "    <tr>\n",
       "      <td>9</td>\n",
       "      <td>1</td>\n",
       "      <td>Applied through company career HR process appl...</td>\n",
       "      <td>0.000000</td>\n",
       "    </tr>\n",
       "    <tr>\n",
       "      <td>15</td>\n",
       "      <td>0</td>\n",
       "      <td>Two interviews first is panel while second is ...</td>\n",
       "      <td>0.000000</td>\n",
       "    </tr>\n",
       "    <tr>\n",
       "      <td>14</td>\n",
       "      <td>0</td>\n",
       "      <td>I applied through a staffing agency The proces...</td>\n",
       "      <td>0.000000</td>\n",
       "    </tr>\n",
       "    <tr>\n",
       "      <td>13</td>\n",
       "      <td>1</td>\n",
       "      <td>Hiring process is fast gotten offer immediatel...</td>\n",
       "      <td>0.000000</td>\n",
       "    </tr>\n",
       "    <tr>\n",
       "      <td>12</td>\n",
       "      <td>0</td>\n",
       "      <td>I applied online The process took 2 weeks I in...</td>\n",
       "      <td>0.000000</td>\n",
       "    </tr>\n",
       "    <tr>\n",
       "      <td>10</td>\n",
       "      <td>0</td>\n",
       "      <td>The process took 3 months I interviewed at ST ...</td>\n",
       "      <td>0.000000</td>\n",
       "    </tr>\n",
       "    <tr>\n",
       "      <td>8</td>\n",
       "      <td>0</td>\n",
       "      <td>I applied online I interviewed at ST Engineering</td>\n",
       "      <td>0.000000</td>\n",
       "    </tr>\n",
       "    <tr>\n",
       "      <td>7</td>\n",
       "      <td>1</td>\n",
       "      <td>Casual chat in warm office hiring manager high...</td>\n",
       "      <td>0.000000</td>\n",
       "    </tr>\n",
       "    <tr>\n",
       "      <td>6</td>\n",
       "      <td>0</td>\n",
       "      <td>After an online application they review my CV ...</td>\n",
       "      <td>0.000000</td>\n",
       "    </tr>\n",
       "    <tr>\n",
       "      <td>5</td>\n",
       "      <td>0</td>\n",
       "      <td>I applied online The process took 2 months I i...</td>\n",
       "      <td>0.000000</td>\n",
       "    </tr>\n",
       "    <tr>\n",
       "      <td>4</td>\n",
       "      <td>-1</td>\n",
       "      <td>Overall HR did good job to arrange the intervi...</td>\n",
       "      <td>0.000000</td>\n",
       "    </tr>\n",
       "    <tr>\n",
       "      <td>3</td>\n",
       "      <td>0</td>\n",
       "      <td>I applied online I interviewed at ST Engineeri...</td>\n",
       "      <td>0.000000</td>\n",
       "    </tr>\n",
       "    <tr>\n",
       "      <td>2</td>\n",
       "      <td>-1</td>\n",
       "      <td>I was given an interview date and time after s...</td>\n",
       "      <td>0.000000</td>\n",
       "    </tr>\n",
       "    <tr>\n",
       "      <td>16</td>\n",
       "      <td>0</td>\n",
       "      <td>I applied online I interviewed at ST Engineeri...</td>\n",
       "      <td>0.000000</td>\n",
       "    </tr>\n",
       "  </tbody>\n",
       "</table>\n",
       "</div>"
      ],
      "text/plain": [
       "    label                                             review  \\\n",
       "1      -1  The process took about 2 weeks HR did not info...   \n",
       "11     -1  Was asked to attend first round and second rou...   \n",
       "0       0   I applied online I interviewed at ST Engineering   \n",
       "9       1  Applied through company career HR process appl...   \n",
       "15      0  Two interviews first is panel while second is ...   \n",
       "14      0  I applied through a staffing agency The proces...   \n",
       "13      1  Hiring process is fast gotten offer immediatel...   \n",
       "12      0  I applied online The process took 2 weeks I in...   \n",
       "10      0  The process took 3 months I interviewed at ST ...   \n",
       "8       0   I applied online I interviewed at ST Engineering   \n",
       "7       1  Casual chat in warm office hiring manager high...   \n",
       "6       0  After an online application they review my CV ...   \n",
       "5       0  I applied online The process took 2 months I i...   \n",
       "4      -1  Overall HR did good job to arrange the intervi...   \n",
       "3       0  I applied online I interviewed at ST Engineeri...   \n",
       "2      -1  I was given an interview date and time after s...   \n",
       "16      0  I applied online I interviewed at ST Engineeri...   \n",
       "\n",
       "    cosine_similarity  \n",
       "1            0.262727  \n",
       "11           0.181637  \n",
       "0            0.000000  \n",
       "9            0.000000  \n",
       "15           0.000000  \n",
       "14           0.000000  \n",
       "13           0.000000  \n",
       "12           0.000000  \n",
       "10           0.000000  \n",
       "8            0.000000  \n",
       "7            0.000000  \n",
       "6            0.000000  \n",
       "5            0.000000  \n",
       "4            0.000000  \n",
       "3            0.000000  \n",
       "2            0.000000  \n",
       "16           0.000000  "
      ]
     },
     "execution_count": 32,
     "metadata": {},
     "output_type": "execute_result"
    }
   ],
   "source": [
    "df.sort_values('cosine_similarity', inplace=True, ascending=False)\n",
    "df.head(40)"
   ]
  },
  {
   "cell_type": "code",
   "execution_count": 33,
   "metadata": {},
   "outputs": [
    {
     "data": {
      "text/html": [
       "<div>\n",
       "<style scoped>\n",
       "    .dataframe tbody tr th:only-of-type {\n",
       "        vertical-align: middle;\n",
       "    }\n",
       "\n",
       "    .dataframe tbody tr th {\n",
       "        vertical-align: top;\n",
       "    }\n",
       "\n",
       "    .dataframe thead th {\n",
       "        text-align: right;\n",
       "    }\n",
       "</style>\n",
       "<table border=\"1\" class=\"dataframe\">\n",
       "  <thead>\n",
       "    <tr style=\"text-align: right;\">\n",
       "      <th></th>\n",
       "      <th>cosine_similarities</th>\n",
       "      <th>review</th>\n",
       "    </tr>\n",
       "  </thead>\n",
       "  <tbody>\n",
       "    <tr>\n",
       "      <td>0</td>\n",
       "      <td>0.0</td>\n",
       "      <td>1</td>\n",
       "    </tr>\n",
       "    <tr>\n",
       "      <td>1</td>\n",
       "      <td>0.0</td>\n",
       "      <td>1</td>\n",
       "    </tr>\n",
       "    <tr>\n",
       "      <td>2</td>\n",
       "      <td>0.0</td>\n",
       "      <td>1</td>\n",
       "    </tr>\n",
       "    <tr>\n",
       "      <td>3</td>\n",
       "      <td>0.0</td>\n",
       "      <td>1</td>\n",
       "    </tr>\n",
       "  </tbody>\n",
       "</table>\n",
       "</div>"
      ],
      "text/plain": [
       "   cosine_similarities  review\n",
       "0                  0.0       1\n",
       "1                  0.0       1\n",
       "2                  0.0       1\n",
       "3                  0.0       1"
      ]
     },
     "execution_count": 33,
     "metadata": {},
     "output_type": "execute_result"
    }
   ],
   "source": [
    "text_contents = [1, 1, 1, 1]\n",
    "df2 = pd.DataFrame({'cosine_similarities': np.zeros(len(text_contents)), 'review': text_contents})\n",
    "df2.head()"
   ]
  },
  {
   "cell_type": "markdown",
   "metadata": {},
   "source": [
    "### 8: Instantiate the Classifier"
   ]
  },
  {
   "cell_type": "code",
   "execution_count": 34,
   "metadata": {},
   "outputs": [
    {
     "name": "stdout",
     "output_type": "stream",
     "text": [
      "<class 'sklearn.svm.classes.LinearSVC'>\n"
     ]
    }
   ],
   "source": [
    "from sklearn.svm import LinearSVC\n",
    "svc = LinearSVC()\n",
    "print(type(svc))"
   ]
  },
  {
   "cell_type": "markdown",
   "metadata": {},
   "source": [
    "### 9: Create the Pipeline"
   ]
  },
  {
   "cell_type": "code",
   "execution_count": 35,
   "metadata": {},
   "outputs": [],
   "source": [
    "from sklearn.pipeline import Pipeline\n",
    "\n",
    "text_clf = Pipeline([('tfidf', TfidfVectorizer(tokenizer=lemmat)), ('clf', LinearSVC())])"
   ]
  },
  {
   "cell_type": "code",
   "execution_count": 36,
   "metadata": {},
   "outputs": [
    {
     "name": "stdout",
     "output_type": "stream",
     "text": [
      "8      I applied online I interviewed at ST Engineering\n",
      "13    Hiring process is fast gotten offer immediatel...\n",
      "2     I was given an interview date and time after s...\n",
      "9     Applied through company career HR process appl...\n",
      "16    I applied online I interviewed at ST Engineeri...\n",
      "4     Overall HR did good job to arrange the intervi...\n",
      "7     Casual chat in warm office hiring manager high...\n",
      "10    The process took 3 months I interviewed at ST ...\n",
      "12    I applied online The process took 2 weeks I in...\n",
      "3     I applied online I interviewed at ST Engineeri...\n",
      "6     After an online application they review my CV ...\n",
      "Name: review, dtype: object\n"
     ]
    }
   ],
   "source": [
    "print(X_train)"
   ]
  },
  {
   "cell_type": "code",
   "execution_count": 37,
   "metadata": {
    "scrolled": true
   },
   "outputs": [
    {
     "name": "stdout",
     "output_type": "stream",
     "text": [
      "8     0\n",
      "13    1\n",
      "2    -1\n",
      "9     1\n",
      "16    0\n",
      "4    -1\n",
      "7     1\n",
      "10    0\n",
      "12    0\n",
      "3     0\n",
      "6     0\n",
      "Name: label, dtype: int64\n"
     ]
    }
   ],
   "source": [
    "print(y_train)"
   ]
  },
  {
   "cell_type": "code",
   "execution_count": 38,
   "metadata": {},
   "outputs": [
    {
     "data": {
      "text/plain": [
       "Pipeline(memory=None,\n",
       "         steps=[('tfidf',\n",
       "                 TfidfVectorizer(analyzer='word', binary=False,\n",
       "                                 decode_error='strict',\n",
       "                                 dtype=<class 'numpy.float64'>,\n",
       "                                 encoding='utf-8', input='content',\n",
       "                                 lowercase=True, max_df=1.0, max_features=None,\n",
       "                                 min_df=1, ngram_range=(1, 1), norm='l2',\n",
       "                                 preprocessor=None, smooth_idf=True,\n",
       "                                 stop_words=None, strip_accents=None,\n",
       "                                 sublinear_tf=False,\n",
       "                                 token_pattern='(?u)\\\\b\\\\w\\\\w+\\\\b',\n",
       "                                 tokenizer=<function lemmat at 0x000001B4EFB9C4C8>,\n",
       "                                 use_idf=True, vocabulary=None)),\n",
       "                ('clf',\n",
       "                 LinearSVC(C=1.0, class_weight=None, dual=True,\n",
       "                           fit_intercept=True, intercept_scaling=1,\n",
       "                           loss='squared_hinge', max_iter=1000,\n",
       "                           multi_class='ovr', penalty='l2', random_state=None,\n",
       "                           tol=0.0001, verbose=0))],\n",
       "         verbose=False)"
      ]
     },
     "execution_count": 38,
     "metadata": {},
     "output_type": "execute_result"
    }
   ],
   "source": [
    "text_clf.fit(X_train, y_train)"
   ]
  },
  {
   "cell_type": "markdown",
   "metadata": {},
   "source": [
    "### 10: Run predictions and evaluate accuracy"
   ]
  },
  {
   "cell_type": "code",
   "execution_count": 39,
   "metadata": {},
   "outputs": [
    {
     "name": "stdout",
     "output_type": "stream",
     "text": [
      "(6,)\n",
      "<class 'numpy.ndarray'>\n",
      "<class 'pandas.core.series.Series'> I applied online I interviewed at ST Engineering\n",
      "0      I applied online I interviewed at ST Engineering\n",
      "1     The process took about 2 weeks HR did not info...\n",
      "5     I applied online The process took 2 months I i...\n",
      "15    Two interviews first is panel while second is ...\n",
      "11    Was asked to attend first round and second rou...\n",
      "14    I applied through a staffing agency The proces...\n",
      "Name: review, dtype: object\n",
      "0\n",
      "0.0 <class 'numpy.ndarray'>\n"
     ]
    }
   ],
   "source": [
    "predictions = text_clf.predict(X_test)\n",
    "print(predictions.shape)\n",
    "print(type(predictions))\n",
    "print(type(X_test), X_test[0])\n",
    "print(X_test)\n",
    "result = text_clf.predict(pd.Series(\"I applied online I interviewed at ST Engineering\"))\n",
    "print(result[0])\n",
    "print(float(result), type(result))\n"
   ]
  },
  {
   "cell_type": "code",
   "execution_count": 40,
   "metadata": {},
   "outputs": [
    {
     "name": "stdout",
     "output_type": "stream",
     "text": [
      "[ 0  1  0  1 -1  0] <class 'numpy.ndarray'>\n",
      "X_test results\n",
      "<class 'numpy.int64'>\n"
     ]
    },
    {
     "data": {
      "text/html": [
       "<div>\n",
       "<style scoped>\n",
       "    .dataframe tbody tr th:only-of-type {\n",
       "        vertical-align: middle;\n",
       "    }\n",
       "\n",
       "    .dataframe tbody tr th {\n",
       "        vertical-align: top;\n",
       "    }\n",
       "\n",
       "    .dataframe thead th {\n",
       "        text-align: right;\n",
       "    }\n",
       "</style>\n",
       "<table border=\"1\" class=\"dataframe\">\n",
       "  <thead>\n",
       "    <tr style=\"text-align: right;\">\n",
       "      <th></th>\n",
       "      <th>predicted sentiment</th>\n",
       "      <th>actual sentiment</th>\n",
       "      <th>review</th>\n",
       "    </tr>\n",
       "  </thead>\n",
       "  <tbody>\n",
       "    <tr>\n",
       "      <td>0</td>\n",
       "      <td>0</td>\n",
       "      <td>0</td>\n",
       "      <td>I applied online I interviewed at ST Engineering</td>\n",
       "    </tr>\n",
       "    <tr>\n",
       "      <td>1</td>\n",
       "      <td>1</td>\n",
       "      <td>-1</td>\n",
       "      <td>The process took about 2 weeks HR did not info...</td>\n",
       "    </tr>\n",
       "    <tr>\n",
       "      <td>2</td>\n",
       "      <td>0</td>\n",
       "      <td>0</td>\n",
       "      <td>I applied online The process took 2 months I i...</td>\n",
       "    </tr>\n",
       "    <tr>\n",
       "      <td>3</td>\n",
       "      <td>1</td>\n",
       "      <td>0</td>\n",
       "      <td>Two interviews first is panel while second is ...</td>\n",
       "    </tr>\n",
       "    <tr>\n",
       "      <td>4</td>\n",
       "      <td>-1</td>\n",
       "      <td>-1</td>\n",
       "      <td>Was asked to attend first round and second rou...</td>\n",
       "    </tr>\n",
       "  </tbody>\n",
       "</table>\n",
       "</div>"
      ],
      "text/plain": [
       "   predicted sentiment  actual sentiment  \\\n",
       "0                    0                 0   \n",
       "1                    1                -1   \n",
       "2                    0                 0   \n",
       "3                    1                 0   \n",
       "4                   -1                -1   \n",
       "\n",
       "                                              review  \n",
       "0   I applied online I interviewed at ST Engineering  \n",
       "1  The process took about 2 weeks HR did not info...  \n",
       "2  I applied online The process took 2 months I i...  \n",
       "3  Two interviews first is panel while second is ...  \n",
       "4  Was asked to attend first round and second rou...  "
      ]
     },
     "execution_count": 40,
     "metadata": {},
     "output_type": "execute_result"
    }
   ],
   "source": [
    "print(predictions, type(predictions))\n",
    "\n",
    "df_X_test_predictions = pd.DataFrame({\n",
    "    'predicted sentiment': list(predictions),\n",
    "    'actual sentiment': list(y_test),\n",
    "    'review': list(X_test)\n",
    "})\n",
    "\n",
    "print(\"X_test results\")\n",
    "print(type(df_X_test_predictions.iloc[1,0]))\n",
    "\n",
    "df_X_test_predictions.head()"
   ]
  },
  {
   "cell_type": "code",
   "execution_count": 41,
   "metadata": {},
   "outputs": [
    {
     "name": "stdout",
     "output_type": "stream",
     "text": [
      "[[1 0 1]\n",
      " [0 3 1]\n",
      " [0 0 0]]\n",
      "[[1, 0, 1], [0, 3, 1], [0, 0, 0]]\n"
     ]
    }
   ],
   "source": [
    "# Report the confusion matrix\n",
    "from sklearn.metrics import confusion_matrix, classification_report\n",
    "conf_matrix = confusion_matrix(y_test, predictions)\n",
    "print(conf_matrix)\n",
    "print(conf_matrix.tolist())"
   ]
  },
  {
   "cell_type": "code",
   "execution_count": 42,
   "metadata": {},
   "outputs": [
    {
     "name": "stdout",
     "output_type": "stream",
     "text": [
      "{(0, 0): 1, (0, 1): 0, (0, 2): 1, (1, 0): 0, (1, 1): 3, (1, 2): 1, (2, 0): 0, (2, 1): 0, (2, 2): 0} <class 'dict'>\n",
      "[1, 0, 1, 0, 3, 1, 0, 0, 0]\n"
     ]
    }
   ],
   "source": [
    "dict_conf_matrix = dict(np.ndenumerate(conf_matrix))\n",
    "print(dict_conf_matrix, type(dict_conf_matrix))\n",
    "list_conf_matrix = list(dict_conf_matrix.values())\n",
    "print(list_conf_matrix)"
   ]
  },
  {
   "cell_type": "code",
   "execution_count": 43,
   "metadata": {},
   "outputs": [
    {
     "name": "stdout",
     "output_type": "stream",
     "text": [
      "0.6666666666666666\n"
     ]
    }
   ],
   "source": [
    "#get overall accuracy\n",
    "from sklearn import metrics\n",
    "accuracy = metrics.accuracy_score(y_test, predictions)\n",
    "print(accuracy)"
   ]
  },
  {
   "cell_type": "code",
   "execution_count": 44,
   "metadata": {},
   "outputs": [
    {
     "name": "stderr",
     "output_type": "stream",
     "text": [
      "C:\\Users\\eugen\\Anaconda3\\lib\\site-packages\\sklearn\\metrics\\classification.py:1439: UndefinedMetricWarning: Recall and F-score are ill-defined and being set to 0.0 in labels with no true samples.\n",
      "  'recall', 'true', average, warn_for)\n"
     ]
    },
    {
     "name": "stdout",
     "output_type": "stream",
     "text": [
      "              precision    recall  f1-score   support\n",
      "\n",
      "          -1       1.00      0.50      0.67         2\n",
      "           0       1.00      0.75      0.86         4\n",
      "           1       0.00      0.00      0.00         0\n",
      "\n",
      "    accuracy                           0.67         6\n",
      "   macro avg       0.67      0.42      0.51         6\n",
      "weighted avg       1.00      0.67      0.79         6\n",
      "\n"
     ]
    }
   ],
   "source": [
    "#get classification report\n",
    "classif_report = classification_report(y_test, predictions)\n",
    "print(classif_report)"
   ]
  }
 ],
 "metadata": {
  "kernelspec": {
   "display_name": "Python 3",
   "language": "python",
   "name": "python3"
  },
  "language_info": {
   "codemirror_mode": {
    "name": "ipython",
    "version": 3
   },
   "file_extension": ".py",
   "mimetype": "text/x-python",
   "name": "python",
   "nbconvert_exporter": "python",
   "pygments_lexer": "ipython3",
   "version": "3.7.6"
  }
 },
 "nbformat": 4,
 "nbformat_minor": 2
}
