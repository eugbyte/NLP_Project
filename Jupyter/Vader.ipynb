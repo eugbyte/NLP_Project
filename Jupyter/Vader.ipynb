{
 "cells": [
  {
   "cell_type": "markdown",
   "metadata": {},
   "source": [
    "### 1: Import the data"
   ]
  },
  {
   "cell_type": "code",
   "execution_count": 1,
   "metadata": {},
   "outputs": [],
   "source": [
    "import numpy as np\n",
    "import pandas as pd\n",
    "\n",
    "import spacy\n",
    "nlp = spacy.load('en_core_web_sm')"
   ]
  },
  {
   "cell_type": "code",
   "execution_count": 2,
   "metadata": {},
   "outputs": [],
   "source": [
    "#assume that this data is retrieved from the json post request\n",
    "df = pd.read_csv(\"webScrapped.csv\", skipinitialspace=True)"
   ]
  },
  {
   "cell_type": "code",
   "execution_count": 3,
   "metadata": {},
   "outputs": [
    {
     "data": {
      "text/html": [
       "<div>\n",
       "<style scoped>\n",
       "    .dataframe tbody tr th:only-of-type {\n",
       "        vertical-align: middle;\n",
       "    }\n",
       "\n",
       "    .dataframe tbody tr th {\n",
       "        vertical-align: top;\n",
       "    }\n",
       "\n",
       "    .dataframe thead th {\n",
       "        text-align: right;\n",
       "    }\n",
       "</style>\n",
       "<table border=\"1\" class=\"dataframe\">\n",
       "  <thead>\n",
       "    <tr style=\"text-align: right;\">\n",
       "      <th></th>\n",
       "      <th>label</th>\n",
       "      <th>review</th>\n",
       "    </tr>\n",
       "  </thead>\n",
       "  <tbody>\n",
       "    <tr>\n",
       "      <th>0</th>\n",
       "      <td>neutral</td>\n",
       "      <td>I applied online. I interviewed at ST Engineer...</td>\n",
       "    </tr>\n",
       "    <tr>\n",
       "      <th>1</th>\n",
       "      <td>negative</td>\n",
       "      <td>The process took about 2 weeks. HR did not inf...</td>\n",
       "    </tr>\n",
       "    <tr>\n",
       "      <th>2</th>\n",
       "      <td>negative</td>\n",
       "      <td>I was given an interview date and time after s...</td>\n",
       "    </tr>\n",
       "    <tr>\n",
       "      <th>3</th>\n",
       "      <td>neutral</td>\n",
       "      <td>I applied online. I interviewed at ST Engineer...</td>\n",
       "    </tr>\n",
       "    <tr>\n",
       "      <th>4</th>\n",
       "      <td>negative</td>\n",
       "      <td>Overall HR did good job to arrange the intervi...</td>\n",
       "    </tr>\n",
       "  </tbody>\n",
       "</table>\n",
       "</div>"
      ],
      "text/plain": [
       "      label                                             review\n",
       "0   neutral  I applied online. I interviewed at ST Engineer...\n",
       "1  negative  The process took about 2 weeks. HR did not inf...\n",
       "2  negative  I was given an interview date and time after s...\n",
       "3   neutral  I applied online. I interviewed at ST Engineer...\n",
       "4  negative  Overall HR did good job to arrange the intervi..."
      ]
     },
     "execution_count": 3,
     "metadata": {},
     "output_type": "execute_result"
    }
   ],
   "source": [
    "df.head()"
   ]
  },
  {
   "cell_type": "code",
   "execution_count": 4,
   "metadata": {},
   "outputs": [],
   "source": [
    "df.drop(\"label\", 1, inplace=True)"
   ]
  },
  {
   "cell_type": "code",
   "execution_count": 5,
   "metadata": {},
   "outputs": [
    {
     "name": "stdout",
     "output_type": "stream",
     "text": [
      "17\n",
      "                                               review\n",
      "0   I applied online. I interviewed at ST Engineer...\n",
      "1   The process took about 2 weeks. HR did not inf...\n",
      "2   I was given an interview date and time after s...\n",
      "3   I applied online. I interviewed at ST Engineer...\n",
      "4   Overall HR did good job to arrange the intervi...\n",
      "5   I applied online. The process took 2+ months. ...\n",
      "6   After an online application, they review my CV...\n",
      "7   Casual chat in warm office, hiring manager hig...\n",
      "8   I applied online. I interviewed at ST Engineer...\n",
      "9   Applied through company's career website- HR p...\n",
      "10  The process took 3+ months. I interviewed at S...\n",
      "11  Was asked to attend first round and second rou...\n",
      "12  I applied online. The process took 2 weeks. I ...\n",
      "13  Hiring process is fast, gotten offer immediate...\n",
      "14  I applied through a staffing agency. The proce...\n",
      "15  Two interviews, first is panel while second is...\n",
      "16  I applied online. I interviewed at ST Engineer...\n"
     ]
    }
   ],
   "source": [
    "print(len(df))\n",
    "print(df)"
   ]
  },
  {
   "cell_type": "markdown",
   "metadata": {},
   "source": [
    "### 2: Clean the data"
   ]
  },
  {
   "cell_type": "code",
   "execution_count": 6,
   "metadata": {},
   "outputs": [
    {
     "name": "stdout",
     "output_type": "stream",
     "text": [
      "review    0\n",
      "dtype: int64\n"
     ]
    }
   ],
   "source": [
    "#Check for NaN values\n",
    "print(df.isnull().sum())\n",
    "df.dropna(inplace=True)"
   ]
  },
  {
   "cell_type": "code",
   "execution_count": 7,
   "metadata": {},
   "outputs": [
    {
     "name": "stdout",
     "output_type": "stream",
     "text": [
      "17\n"
     ]
    }
   ],
   "source": [
    "print(len(df))"
   ]
  },
  {
   "cell_type": "code",
   "execution_count": 8,
   "metadata": {},
   "outputs": [
    {
     "name": "stdout",
     "output_type": "stream",
     "text": [
      "[]\n",
      "17\n"
     ]
    }
   ],
   "source": [
    "#remove white spaces and empty strings\n",
    "blanks = []\n",
    "\n",
    "for index, row in df.iterrows():\n",
    "    review = row['review']\n",
    "    if type(review) == str:\n",
    "        if (review.isspace()):\n",
    "            blanks.append(index)\n",
    "\n",
    "print(blanks)\n",
    "\n",
    "df.drop(index=blanks, inplace=True)\n",
    "print(len(df))"
   ]
  },
  {
   "cell_type": "code",
   "execution_count": 9,
   "metadata": {},
   "outputs": [],
   "source": [
    "#trim the strings    \n",
    "df = df.applymap(lambda cell: cell.strip() if (type(cell) == str) else cell)"
   ]
  },
  {
   "cell_type": "code",
   "execution_count": 10,
   "metadata": {},
   "outputs": [],
   "source": [
    "#remove punctuation\n",
    "def remove_punctuation(text):\n",
    "    doc = nlp(text)\n",
    "    tokens = [token.text for token in doc if token.is_alpha or token.is_digit]\n",
    "    return \" \".join(tokens)\n",
    "    \n",
    "df['review'] = df['review'].apply(remove_punctuation)"
   ]
  },
  {
   "cell_type": "markdown",
   "metadata": {},
   "source": [
    "### 3: Vader Sentiment"
   ]
  },
  {
   "cell_type": "code",
   "execution_count": 11,
   "metadata": {},
   "outputs": [
    {
     "name": "stderr",
     "output_type": "stream",
     "text": [
      "[nltk_data] Downloading package vader_lexicon to\n",
      "[nltk_data]     C:\\Users\\eugen\\AppData\\Roaming\\nltk_data...\n",
      "[nltk_data]   Package vader_lexicon is already up-to-date!\n"
     ]
    },
    {
     "data": {
      "text/plain": [
       "True"
      ]
     },
     "execution_count": 11,
     "metadata": {},
     "output_type": "execute_result"
    }
   ],
   "source": [
    "import nltk\n",
    "nltk.download('vader_lexicon')"
   ]
  },
  {
   "cell_type": "code",
   "execution_count": 12,
   "metadata": {},
   "outputs": [],
   "source": [
    "from nltk.sentiment.vader import SentimentIntensityAnalyzer\n",
    "sid = SentimentIntensityAnalyzer()"
   ]
  },
  {
   "cell_type": "code",
   "execution_count": 13,
   "metadata": {},
   "outputs": [
    {
     "name": "stdout",
     "output_type": "stream",
     "text": [
      "The process took about 2 weeks HR did not inform there will be a test The job scope was very generalized Interviewers were not interested in hiring and no friendly vibes at all Really untrained and gave an awkward silence\n",
      "{'neg': 0.14, 'neu': 0.786, 'pos': 0.074, 'compound': -0.2163}\n",
      "-0.2163\n"
     ]
    }
   ],
   "source": [
    "print(df.iloc[1, 0])\n",
    "print(sid.polarity_scores(df.iloc[1, 0]))\n",
    "print(sid.polarity_scores(df.iloc[1, 0])['compound'])"
   ]
  },
  {
   "cell_type": "code",
   "execution_count": 14,
   "metadata": {},
   "outputs": [
    {
     "data": {
      "text/html": [
       "<div>\n",
       "<style scoped>\n",
       "    .dataframe tbody tr th:only-of-type {\n",
       "        vertical-align: middle;\n",
       "    }\n",
       "\n",
       "    .dataframe tbody tr th {\n",
       "        vertical-align: top;\n",
       "    }\n",
       "\n",
       "    .dataframe thead th {\n",
       "        text-align: right;\n",
       "    }\n",
       "</style>\n",
       "<table border=\"1\" class=\"dataframe\">\n",
       "  <thead>\n",
       "    <tr style=\"text-align: right;\">\n",
       "      <th></th>\n",
       "      <th>review</th>\n",
       "      <th>compound_score</th>\n",
       "    </tr>\n",
       "  </thead>\n",
       "  <tbody>\n",
       "    <tr>\n",
       "      <th>0</th>\n",
       "      <td>I applied online I interviewed at ST Engineering</td>\n",
       "      <td>0.0000</td>\n",
       "    </tr>\n",
       "    <tr>\n",
       "      <th>1</th>\n",
       "      <td>The process took about 2 weeks HR did not info...</td>\n",
       "      <td>-0.2163</td>\n",
       "    </tr>\n",
       "    <tr>\n",
       "      <th>2</th>\n",
       "      <td>I was given an interview date and time after s...</td>\n",
       "      <td>-0.7778</td>\n",
       "    </tr>\n",
       "    <tr>\n",
       "      <th>3</th>\n",
       "      <td>I applied online I interviewed at ST Engineeri...</td>\n",
       "      <td>0.0000</td>\n",
       "    </tr>\n",
       "    <tr>\n",
       "      <th>4</th>\n",
       "      <td>Overall HR did good job to arrange the intervi...</td>\n",
       "      <td>-0.7688</td>\n",
       "    </tr>\n",
       "  </tbody>\n",
       "</table>\n",
       "</div>"
      ],
      "text/plain": [
       "                                              review  compound_score\n",
       "0   I applied online I interviewed at ST Engineering          0.0000\n",
       "1  The process took about 2 weeks HR did not info...         -0.2163\n",
       "2  I was given an interview date and time after s...         -0.7778\n",
       "3  I applied online I interviewed at ST Engineeri...          0.0000\n",
       "4  Overall HR did good job to arrange the intervi...         -0.7688"
      ]
     },
     "execution_count": 14,
     "metadata": {},
     "output_type": "execute_result"
    }
   ],
   "source": [
    "df['compound_score'] = df[\"review\"].apply(lambda text : sid.polarity_scores(text)['compound'])\n",
    "df.head()"
   ]
  },
  {
   "cell_type": "markdown",
   "metadata": {},
   "source": [
    "#### 3b: Convert score to string"
   ]
  },
  {
   "cell_type": "code",
   "execution_count": 15,
   "metadata": {},
   "outputs": [],
   "source": [
    "def convert_score_to_sentiment(score):\n",
    "    if score > 0:\n",
    "        return \"positive\"\n",
    "    elif score == 0:\n",
    "        return \"neutral\"\n",
    "    else:\n",
    "        return \"negative\""
   ]
  },
  {
   "cell_type": "code",
   "execution_count": 16,
   "metadata": {},
   "outputs": [
    {
     "data": {
      "text/html": [
       "<div>\n",
       "<style scoped>\n",
       "    .dataframe tbody tr th:only-of-type {\n",
       "        vertical-align: middle;\n",
       "    }\n",
       "\n",
       "    .dataframe tbody tr th {\n",
       "        vertical-align: top;\n",
       "    }\n",
       "\n",
       "    .dataframe thead th {\n",
       "        text-align: right;\n",
       "    }\n",
       "</style>\n",
       "<table border=\"1\" class=\"dataframe\">\n",
       "  <thead>\n",
       "    <tr style=\"text-align: right;\">\n",
       "      <th></th>\n",
       "      <th>review</th>\n",
       "      <th>compound_score</th>\n",
       "      <th>sentiment</th>\n",
       "    </tr>\n",
       "  </thead>\n",
       "  <tbody>\n",
       "    <tr>\n",
       "      <th>0</th>\n",
       "      <td>I applied online I interviewed at ST Engineering</td>\n",
       "      <td>0.0000</td>\n",
       "      <td>neutral</td>\n",
       "    </tr>\n",
       "    <tr>\n",
       "      <th>1</th>\n",
       "      <td>The process took about 2 weeks HR did not info...</td>\n",
       "      <td>-0.2163</td>\n",
       "      <td>negative</td>\n",
       "    </tr>\n",
       "    <tr>\n",
       "      <th>2</th>\n",
       "      <td>I was given an interview date and time after s...</td>\n",
       "      <td>-0.7778</td>\n",
       "      <td>negative</td>\n",
       "    </tr>\n",
       "    <tr>\n",
       "      <th>3</th>\n",
       "      <td>I applied online I interviewed at ST Engineeri...</td>\n",
       "      <td>0.0000</td>\n",
       "      <td>neutral</td>\n",
       "    </tr>\n",
       "    <tr>\n",
       "      <th>4</th>\n",
       "      <td>Overall HR did good job to arrange the intervi...</td>\n",
       "      <td>-0.7688</td>\n",
       "      <td>negative</td>\n",
       "    </tr>\n",
       "    <tr>\n",
       "      <th>5</th>\n",
       "      <td>I applied online The process took 2 months I i...</td>\n",
       "      <td>0.0000</td>\n",
       "      <td>neutral</td>\n",
       "    </tr>\n",
       "    <tr>\n",
       "      <th>6</th>\n",
       "      <td>After an online application they review my CV ...</td>\n",
       "      <td>0.2732</td>\n",
       "      <td>positive</td>\n",
       "    </tr>\n",
       "    <tr>\n",
       "      <th>7</th>\n",
       "      <td>Casual chat in warm office hiring manager high...</td>\n",
       "      <td>0.8201</td>\n",
       "      <td>positive</td>\n",
       "    </tr>\n",
       "    <tr>\n",
       "      <th>8</th>\n",
       "      <td>I applied online I interviewed at ST Engineering</td>\n",
       "      <td>0.0000</td>\n",
       "      <td>neutral</td>\n",
       "    </tr>\n",
       "    <tr>\n",
       "      <th>9</th>\n",
       "      <td>Applied through company career HR process appl...</td>\n",
       "      <td>0.4215</td>\n",
       "      <td>positive</td>\n",
       "    </tr>\n",
       "  </tbody>\n",
       "</table>\n",
       "</div>"
      ],
      "text/plain": [
       "                                              review  compound_score sentiment\n",
       "0   I applied online I interviewed at ST Engineering          0.0000   neutral\n",
       "1  The process took about 2 weeks HR did not info...         -0.2163  negative\n",
       "2  I was given an interview date and time after s...         -0.7778  negative\n",
       "3  I applied online I interviewed at ST Engineeri...          0.0000   neutral\n",
       "4  Overall HR did good job to arrange the intervi...         -0.7688  negative\n",
       "5  I applied online The process took 2 months I i...          0.0000   neutral\n",
       "6  After an online application they review my CV ...          0.2732  positive\n",
       "7  Casual chat in warm office hiring manager high...          0.8201  positive\n",
       "8   I applied online I interviewed at ST Engineering          0.0000   neutral\n",
       "9  Applied through company career HR process appl...          0.4215  positive"
      ]
     },
     "execution_count": 16,
     "metadata": {},
     "output_type": "execute_result"
    }
   ],
   "source": [
    "df['sentiment'] = df['compound_score'].apply(lambda score: convert_score_to_sentiment(score))\n",
    "df.head(10)"
   ]
  },
  {
   "cell_type": "code",
   "execution_count": 17,
   "metadata": {},
   "outputs": [
    {
     "data": {
      "text/html": [
       "<div>\n",
       "<style scoped>\n",
       "    .dataframe tbody tr th:only-of-type {\n",
       "        vertical-align: middle;\n",
       "    }\n",
       "\n",
       "    .dataframe tbody tr th {\n",
       "        vertical-align: top;\n",
       "    }\n",
       "\n",
       "    .dataframe thead th {\n",
       "        text-align: right;\n",
       "    }\n",
       "</style>\n",
       "<table border=\"1\" class=\"dataframe\">\n",
       "  <thead>\n",
       "    <tr style=\"text-align: right;\">\n",
       "      <th></th>\n",
       "      <th>review</th>\n",
       "      <th>sentiment</th>\n",
       "    </tr>\n",
       "  </thead>\n",
       "  <tbody>\n",
       "    <tr>\n",
       "      <th>0</th>\n",
       "      <td>I applied online I interviewed at ST Engineering</td>\n",
       "      <td>neutral</td>\n",
       "    </tr>\n",
       "    <tr>\n",
       "      <th>1</th>\n",
       "      <td>The process took about 2 weeks HR did not info...</td>\n",
       "      <td>negative</td>\n",
       "    </tr>\n",
       "    <tr>\n",
       "      <th>2</th>\n",
       "      <td>I was given an interview date and time after s...</td>\n",
       "      <td>negative</td>\n",
       "    </tr>\n",
       "    <tr>\n",
       "      <th>3</th>\n",
       "      <td>I applied online I interviewed at ST Engineeri...</td>\n",
       "      <td>neutral</td>\n",
       "    </tr>\n",
       "    <tr>\n",
       "      <th>4</th>\n",
       "      <td>Overall HR did good job to arrange the intervi...</td>\n",
       "      <td>negative</td>\n",
       "    </tr>\n",
       "  </tbody>\n",
       "</table>\n",
       "</div>"
      ],
      "text/plain": [
       "                                              review sentiment\n",
       "0   I applied online I interviewed at ST Engineering   neutral\n",
       "1  The process took about 2 weeks HR did not info...  negative\n",
       "2  I was given an interview date and time after s...  negative\n",
       "3  I applied online I interviewed at ST Engineeri...   neutral\n",
       "4  Overall HR did good job to arrange the intervi...  negative"
      ]
     },
     "execution_count": 17,
     "metadata": {},
     "output_type": "execute_result"
    }
   ],
   "source": [
    "df.drop(\"compound_score\", 1, inplace=True)\n",
    "df.head()"
   ]
  },
  {
   "cell_type": "code",
   "execution_count": 24,
   "metadata": {},
   "outputs": [],
   "source": [
    "docList = []\n",
    "\n",
    "for index, row in df.iterrows():\n",
    "    doc = {\n",
    "        \"textContent\": row[\"review\"],\n",
    "        \"sentiment\": row[\"sentiment\"]\n",
    "    }\n",
    "    docList.append(doc)"
   ]
  },
  {
   "cell_type": "code",
   "execution_count": 27,
   "metadata": {},
   "outputs": [
    {
     "name": "stdout",
     "output_type": "stream",
     "text": [
      "[{'textContent': 'I applied online I interviewed at ST Engineering', 'sentiment': 'neutral'}, {'textContent': 'The process took about 2 weeks HR did not inform there will be a test The job scope was very generalized Interviewers were not interested in hiring and no friendly vibes at all Really untrained and gave an awkward silence', 'sentiment': 'negative'}, {'textContent': 'I was given an interview date and time after submitting resume Interview got postponed and there was no follow up even after emailing HR about it A very bad experience', 'sentiment': 'negative'}, {'textContent': 'I applied online I interviewed at ST Engineering Singapore in March 2020', 'sentiment': 'neutral'}, {'textContent': 'Overall HR did good job to arrange the interview however the interviewer is the worst one I have met most questions asked were not relevant to job itself the interviewer just tried very hard to fail you Very disapotined that why ST has those kind of people in management role', 'sentiment': 'negative'}]\n"
     ]
    }
   ],
   "source": [
    "print(docList[:5])"
   ]
  },
  {
   "cell_type": "code",
   "execution_count": null,
   "metadata": {},
   "outputs": [],
   "source": []
  }
 ],
 "metadata": {
  "kernelspec": {
   "display_name": "Python 3",
   "language": "python",
   "name": "python3"
  },
  "language_info": {
   "codemirror_mode": {
    "name": "ipython",
    "version": 3
   },
   "file_extension": ".py",
   "mimetype": "text/x-python",
   "name": "python",
   "nbconvert_exporter": "python",
   "pygments_lexer": "ipython3",
   "version": "3.7.6"
  }
 },
 "nbformat": 4,
 "nbformat_minor": 2
}
